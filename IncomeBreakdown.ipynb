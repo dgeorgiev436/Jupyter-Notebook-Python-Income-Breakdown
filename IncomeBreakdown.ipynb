{
  "nbformat": 4,
  "nbformat_minor": 0,
  "metadata": {
    "colab": {
      "name": "IncomeBreakdown.ipynb",
      "provenance": [],
      "collapsed_sections": [],
      "authorship_tag": "ABX9TyMul2nRcnaXWSIoQhZCE2/w",
      "include_colab_link": true
    },
    "kernelspec": {
      "name": "python3",
      "display_name": "Python 3"
    },
    "language_info": {
      "name": "python"
    }
  },
  "cells": [
    {
      "cell_type": "markdown",
      "metadata": {
        "id": "view-in-github",
        "colab_type": "text"
      },
      "source": [
        "<a href=\"https://colab.research.google.com/github/dgeorgiev436/Jupyter-Notebook-Python-Income-Breakdown/blob/main/IncomeBreakdown.ipynb\" target=\"_parent\"><img src=\"https://colab.research.google.com/assets/colab-badge.svg\" alt=\"Open In Colab\"/></a>"
      ]
    },
    {
      "cell_type": "markdown",
      "source": [
        "# **Average income of Male and Female living in New York aged between 35 and 45**\n",
        "\n",
        "\n",
        "\n",
        "\n",
        "\n",
        "\n"
      ],
      "metadata": {
        "id": "j_iVCvgY2h2s"
      }
    },
    {
      "cell_type": "markdown",
      "source": [
        "## Importing the libraries that are going to be used for the task"
      ],
      "metadata": {
        "id": "bbRdoRtq2QwB"
      }
    },
    {
      "cell_type": "code",
      "source": [
        "# Import pandas library which will be used for data structures and operations\n",
        "import pandas as pd\n",
        "# Import matplotlib.pyplot and seaborn libraries which will be used for data visualisation\n",
        "import seaborn as sns\n",
        "from matplotlib import pyplot as plt\n",
        "\n"
      ],
      "metadata": {
        "id": "lk2SiipdSOE2"
      },
      "execution_count": null,
      "outputs": []
    },
    {
      "cell_type": "markdown",
      "source": [
        "## Reading data and adding it do a data frame"
      ],
      "metadata": {
        "id": "ADymcoXY2gps"
      }
    },
    {
      "cell_type": "code",
      "source": [
        "# Read the worksheet and add to data frame\n",
        "data = pd.read_csv(\"IncomeBreakdown.csv\")\n",
        "df = pd.DataFrame(data)"
      ],
      "metadata": {
        "id": "bFOTCSCg2f9v"
      },
      "execution_count": null,
      "outputs": []
    },
    {
      "cell_type": "markdown",
      "source": [
        "## Performing data filtering to match the required conditions\n"
      ],
      "metadata": {
        "id": "dTRqamTvkvrd"
      }
    },
    {
      "cell_type": "code",
      "source": [
        "# Filtering all male living in New York between the age of 35 and 45\n",
        "filteredDataMale = (data[\"City\"] == \"New York City\") & (data[\"Age\"] >= 35) & (data[\"Age\"] <= 45) & (data[\"Gender\"] == \"Male\")\n",
        "\n",
        "# Filtering all female living in New York between the age of 35 and 45\n",
        "filteredDataFemale = (data[\"City\"] == \"New York City\") & (data[\"Age\"] >= 35) & (data[\"Age\"] <= 45) & (data[\"Gender\"] == \"Female\")\n"
      ],
      "metadata": {
        "id": "gH1jiUMQU7pP"
      },
      "execution_count": null,
      "outputs": []
    },
    {
      "cell_type": "markdown",
      "source": [
        "## Performing pandas dataframe boolean filtering"
      ],
      "metadata": {
        "id": "tsCPAWAR3MR6"
      }
    },
    {
      "cell_type": "code",
      "source": [
        "# Apply the filtered data to the data frame also known as pandas dataframe boolean filtering\n",
        "femaleIncome = df.loc[filteredDataFemale]\n",
        "maleIncome = df.loc[filteredDataMale]"
      ],
      "metadata": {
        "id": "eR_PnNSp2521"
      },
      "execution_count": null,
      "outputs": []
    },
    {
      "cell_type": "markdown",
      "source": [
        "## Using the .mean() function to find the average income and printing and formatting the result"
      ],
      "metadata": {
        "id": "JqyUgO2d3QRk"
      }
    },
    {
      "cell_type": "code",
      "source": [
        "# Finding the average income of males and females living in New York aged between 35-45\n",
        "averageMaleIncome = maleIncome[\"Income\"].mean()\n",
        "averageFemaleIncome = femaleIncome[\"Income\"].mean()\n",
        "\n",
        "# Printing the average incomes of males and females aged between 35-45 living in New York City\n",
        "# The Format method is used to add a comma and remove the decimal numbers\n",
        "print(\"The average income of male workers aged between 35-45 inclusively in New York City is: $\", format(averageMaleIncome, \",.0f\") )\n",
        "print(\"The average income of female workers aged between 35-45 inclusively in New York City is: $\", format(averageFemaleIncome, \",.0f\") )"
      ],
      "metadata": {
        "colab": {
          "base_uri": "https://localhost:8080/"
        },
        "id": "-HUd6chP28nz",
        "outputId": "fcf1726f-bc3e-47cc-9168-fb77d7472abf"
      },
      "execution_count": null,
      "outputs": [
        {
          "output_type": "stream",
          "name": "stdout",
          "text": [
            "The average income of male workers aged between 35-45 inclusively in New York City is: $ 101,366\n",
            "The average income of female workers aged between 35-45 inclusively in New York City is: $ 91,200\n"
          ]
        }
      ]
    },
    {
      "cell_type": "markdown",
      "source": [
        "## Creating a new dataframe with the required data\n"
      ],
      "metadata": {
        "id": "L-1P2F0inh15"
      }
    },
    {
      "cell_type": "code",
      "source": [
        "# Assigning data\n",
        "averageSalary = {\"Gender\": [\"Male\", \"Female\"], \"Average Income\": [format(averageMaleIncome, \",.0f\"), format(averageFemaleIncome, \",.0f\") ]}\n",
        "\n",
        "# Creating DataFrame\n",
        "averageIncome_df = pd.DataFrame(averageSalary)\n",
        "\n",
        "# Printing output\n",
        "print(averageIncome_df)\n"
      ],
      "metadata": {
        "colab": {
          "base_uri": "https://localhost:8080/"
        },
        "id": "mIA2VWEJXkzO",
        "outputId": "2e1ab457-4b3e-4a43-df0c-719b7ad01131"
      },
      "execution_count": null,
      "outputs": [
        {
          "output_type": "stream",
          "name": "stdout",
          "text": [
            "   Gender Average Income\n",
            "0    Male        101,366\n",
            "1  Female         91,200\n"
          ]
        }
      ]
    },
    {
      "cell_type": "markdown",
      "source": [
        "## Difference in average incomes of males and females living in New York aged between 35 and 45"
      ],
      "metadata": {
        "id": "v8g-j5ojvfeZ"
      }
    },
    {
      "cell_type": "code",
      "source": [
        "#  Finding the difference in average income\n",
        "difference = (averageMaleIncome - averageFemaleIncome);\n",
        "# Printing the result \n",
        "print(\"The difference in average income between males and females living in New York aged between 35 and 45 is: $\",format(difference, \",.0f\"))"
      ],
      "metadata": {
        "colab": {
          "base_uri": "https://localhost:8080/"
        },
        "id": "AB5vv4pGu3xX",
        "outputId": "6697731b-c1a5-47bb-d91c-461a432a940a"
      },
      "execution_count": null,
      "outputs": [
        {
          "output_type": "stream",
          "name": "stdout",
          "text": [
            "The difference in average income between males and females living in New York aged between 35 and 45 is: $ 10,167\n"
          ]
        }
      ]
    },
    {
      "cell_type": "markdown",
      "source": [
        "## Performing data visualisation with matplotlib to display the findings\n"
      ],
      "metadata": {
        "id": "WOq3rnJjnqE-"
      }
    },
    {
      "cell_type": "code",
      "source": [
        "# Set bar chart\n",
        "fig = plt.figure()\n",
        "ax = fig.add_axes([0,0,1.5,2])\n",
        "\n",
        "# Insert data\n",
        "gender = ['Male', 'Female', \"Difference\"]\n",
        "income = [averageMaleIncome, averageFemaleIncome, difference]\n",
        "\n",
        "# Display bar chart\n",
        "ax.bar(gender,income, color=\"g\")\n",
        "plt.show()"
      ],
      "metadata": {
        "colab": {
          "base_uri": "https://localhost:8080/",
          "height": 624
        },
        "id": "EbWwJGFUnRcG",
        "outputId": "d382ac02-a9c7-4a42-c79f-aa37f489930e"
      },
      "execution_count": null,
      "outputs": [
        {
          "output_type": "display_data",
          "data": {
            "text/plain": [
              "<Figure size 432x288 with 1 Axes>"
            ],
            "image/png": "[encoded data removed]"
          },
          "metadata": {
            "needs_background": "light"
          }
        }
      ]
    }
  ]
}