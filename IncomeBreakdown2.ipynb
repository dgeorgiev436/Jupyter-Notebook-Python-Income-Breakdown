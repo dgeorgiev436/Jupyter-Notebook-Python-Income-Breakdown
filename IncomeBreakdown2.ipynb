{
  "nbformat": 4,
  "nbformat_minor": 0,
  "metadata": {
    "colab": {
      "name": "IncomeBreakdown2.ipynb",
      "provenance": [],
      "collapsed_sections": [],
      "authorship_tag": "ABX9TyPl2Vp1I63pAcXyQAfq7tWp",
      "include_colab_link": true
    },
    "kernelspec": {
      "name": "python3",
      "display_name": "Python 3"
    },
    "language_info": {
      "name": "python"
    }
  },
  "cells": [
    {
      "cell_type": "markdown",
      "metadata": {
        "id": "view-in-github",
        "colab_type": "text"
      },
      "source": [
        "<a href=\"https://colab.research.google.com/github/dgeorgiev436/Jupyter-Notebook-Python-Income-Breakdown/blob/main/IncomeBreakdown2.ipynb\" target=\"_parent\"><img src=\"https://colab.research.google.com/assets/colab-badge.svg\" alt=\"Open In Colab\"/></a>"
      ]
    },
    {
      "cell_type": "markdown",
      "source": [
        "# **Average income breakdown in different cities for people with illness**"
      ],
      "metadata": {
        "id": "BEM_WihozacV"
      }
    },
    {
      "cell_type": "markdown",
      "source": [
        "## Importing the libraries that are going to be used for the task"
      ],
      "metadata": {
        "id": "0fVkl2Kc2Vlc"
      }
    },
    {
      "cell_type": "code",
      "execution_count": null,
      "metadata": {
        "id": "fn1HhYxMsV9L"
      },
      "outputs": [],
      "source": [
        "# Import pandas library which will be used for data structures and operations\n",
        "import pandas as pd\n",
        "# Import matplotlib.pyplot and seaborn libraries which will be used for data visualisation\n",
        "import seaborn as sns\n",
        "from matplotlib import pyplot as plt"
      ]
    },
    {
      "cell_type": "markdown",
      "source": [
        "## Reading data and adding it do a data frame"
      ],
      "metadata": {
        "id": "nrTi8SCxzl_R"
      }
    },
    {
      "cell_type": "code",
      "source": [
        "# Read the worksheet and add to a data frame\n",
        "data = pd.read_csv(\"IncomeBreakdown.csv\")\n",
        "df = pd.DataFrame(data)"
      ],
      "metadata": {
        "id": "sysiGq9suwAU"
      },
      "execution_count": null,
      "outputs": []
    },
    {
      "cell_type": "markdown",
      "source": [
        "## Performing data filtering to match the required conditions"
      ],
      "metadata": {
        "id": "1mp1JGQvzsd8"
      }
    },
    {
      "cell_type": "code",
      "source": [
        "# Filtering all people with ilness living in certain cities\n",
        "filterDallas = (data[\"City\"] == \"Dallas\") & (data[\"Illness\"] == \"Yes\")\n",
        "filterNewYork = (data[\"City\"] == \"New York City\") & (data[\"Illness\"] == \"Yes\")\n",
        "filterLA = (data[\"City\"] == \"Los Angeles\") & (data[\"Illness\"] == \"Yes\")\n",
        "filterMountainView = (data[\"City\"] == \"Mountain View\") & (data[\"Illness\"] == \"Yes\")\n",
        "filterBoston = (data[\"City\"] == \"Boston\") & (data[\"Illness\"] == \"Yes\")\n",
        "filterWashington = (data[\"City\"] == \"Washington D.C.\") & (data[\"Illness\"] == \"Yes\")\n",
        "filterSanDiego = (data[\"City\"] == \"San Diego\") & (data[\"Illness\"] == \"Yes\")\n",
        "filterAustin = (data[\"City\"] == \"Austin\") & (data[\"Illness\"] == \"Yes\")"
      ],
      "metadata": {
        "id": "A_IAYX-6x_tF"
      },
      "execution_count": null,
      "outputs": []
    },
    {
      "cell_type": "markdown",
      "source": [
        "## Performing pandas dataframe boolean filtering"
      ],
      "metadata": {
        "id": "EKBm_3oKzx_f"
      }
    },
    {
      "cell_type": "code",
      "source": [
        "# Apply the filtered data to the data frame also known as pandas dataframe boolean filtering\n",
        "dallasIncomeData = df.loc[filterDallas]\n",
        "newYorkIncomeData = df.loc[filterNewYork]\n",
        "laIncomeData = df.loc[filterLA]\n",
        "mountainViewIncomeData = df.loc[filterMountainView]\n",
        "bostonIncomeData = df.loc[filterBoston]\n",
        "washingtonIncomeData = df.loc[filterWashington]\n",
        "sanDiegoIncomeData = df.loc[filterSanDiego]\n",
        "austinIncomeData = df.loc[filterAustin]\n"
      ],
      "metadata": {
        "id": "Kdf895fDyC4x"
      },
      "execution_count": null,
      "outputs": []
    },
    {
      "cell_type": "markdown",
      "source": [
        "## Using the .mean() function to find the average income per city"
      ],
      "metadata": {
        "id": "2dcROteWz5IQ"
      }
    },
    {
      "cell_type": "code",
      "source": [
        "# Finding the average income of people with ilness living in the given cities\n",
        "averageIncomeDallas = dallasIncomeData[\"Income\"].mean()\n",
        "averageIncomeNewYork = newYorkIncomeData[\"Income\"].mean()\n",
        "averageIncomeLA = laIncomeData[\"Income\"].mean()\n",
        "averageIncomeMountainView = mountainViewIncomeData[\"Income\"].mean()\n",
        "averageIncomeBoston = bostonIncomeData[\"Income\"].mean()\n",
        "averageIncomeWashington = washingtonIncomeData[\"Income\"].mean()\n",
        "averageIncomeSanDiego = sanDiegoIncomeData[\"Income\"].mean()\n",
        "averageIncomeAustin = austinIncomeData[\"Income\"].mean()"
      ],
      "metadata": {
        "id": "UBgu7TZryEsf"
      },
      "execution_count": null,
      "outputs": []
    },
    {
      "cell_type": "markdown",
      "source": [
        "## Printing and formatting the average incomes of people in certain cities that have illness"
      ],
      "metadata": {
        "id": "akYNwkMl0KPU"
      }
    },
    {
      "cell_type": "code",
      "source": [
        "# Printing and formatting the average incomes of people in certain cities that have illness\n",
        "# The Format method is used to add a comma and remove the decimal numbers\n",
        "print(\"The average income of people with ilness living in Dallas is: $\", format(averageIncomeDallas, \",.0f\") )\n",
        "print(\"The average income of people with ilness living in New York City is: $\", format(averageIncomeNewYork, \",.0f\") )\n",
        "print(\"The average income of people with ilness living in Los Angeles is: $\", format(averageIncomeLA, \",.0f\") )\n",
        "print(\"The average income of people with ilness living in Mountain View is: $\", format(averageIncomeMountainView, \",.0f\") )\n",
        "print(\"The average income of people with ilness living in Boston is: $\", format(averageIncomeBoston, \",.0f\") )\n",
        "print(\"The average income of people with ilness living in Washington D.C. is: $\", format(averageIncomeWashington, \",.0f\") )\n",
        "print(\"The average income of people with ilness living in San Diego is: $\", format(averageIncomeSanDiego, \",.0f\") )\n",
        "print(\"The average income of people with ilness living in Austin is: $\", format(averageIncomeAustin, \",.0f\") )"
      ],
      "metadata": {
        "colab": {
          "base_uri": "https://localhost:8080/"
        },
        "id": "7756aN9LsrOL",
        "outputId": "a99c3693-cc69-44d3-f7d1-5a3de7e724c5"
      },
      "execution_count": null,
      "outputs": [
        {
          "output_type": "stream",
          "name": "stdout",
          "text": [
            "The average income of people with ilness living in Dallas is: $ 45,275\n",
            "The average income of people with ilness living in New York City is: $ 97,061\n",
            "The average income of people with ilness living in Los Angeles is: $ 94,976\n",
            "The average income of people with ilness living in Mountain View is: $ 134,770\n",
            "The average income of people with ilness living in Boston is: $ 92,014\n",
            "The average income of people with ilness living in Washington D.C. is: $ 71,201\n",
            "The average income of people with ilness living in San Diego is: $ 101,941\n",
            "The average income of people with ilness living in Austin is: $ 90,211\n"
          ]
        }
      ]
    },
    {
      "cell_type": "markdown",
      "source": [
        "## Creating a new dataframe with the required data"
      ],
      "metadata": {
        "id": "wmg62txL0xM1"
      }
    },
    {
      "cell_type": "code",
      "source": [
        "# Assigning data\n",
        "averageSalary = {\"City\": [\"Dallas\", \"New York City\", \"Los Angeles\", \"Mountain View\", \"Boston\", \"Washington D.C.\", \"San Diego\", \"Austin\"], \"Average Income for people with ilness\": [\n",
        "      format(averageIncomeDallas, \",.0f\"),\n",
        "      format(averageIncomeNewYork, \",.0f\"),\n",
        "      format(averageIncomeLA, \",.0f\"),\n",
        "      format(averageIncomeMountainView, \",.0f\"),\n",
        "      format(averageIncomeBoston, \",.0f\"),\n",
        "      format(averageIncomeWashington, \",.0f\"),\n",
        "      format(averageIncomeSanDiego, \",.0f\"), \n",
        "      format(averageIncomeAustin, \",.0f\"), \n",
        "    ]\n",
        "  }\n",
        "\n",
        "# Creating DataFrame\n",
        "averageIncomePerCity_df = pd.DataFrame(averageSalary)\n",
        "\n",
        "# Printing output\n",
        "print(averageIncomePerCity_df)"
      ],
      "metadata": {
        "colab": {
          "base_uri": "https://localhost:8080/"
        },
        "id": "FQ0viUr9yMG6",
        "outputId": "1855c249-49c4-4371-8e79-8c4e697276ac"
      },
      "execution_count": null,
      "outputs": [
        {
          "output_type": "stream",
          "name": "stdout",
          "text": [
            "              City Average Income for people with ilness\n",
            "0           Dallas                                45,275\n",
            "1    New York City                                97,061\n",
            "2      Los Angeles                                94,976\n",
            "3    Mountain View                               134,770\n",
            "4           Boston                                92,014\n",
            "5  Washington D.C.                                71,201\n",
            "6        San Diego                               101,941\n",
            "7           Austin                                90,211\n"
          ]
        }
      ]
    },
    {
      "cell_type": "markdown",
      "source": [
        "## Performing data visualisation with matplotlib to display the findings"
      ],
      "metadata": {
        "id": "3awYKeig04ax"
      }
    },
    {
      "cell_type": "code",
      "source": [
        "# Set bar chart\n",
        "fig = plt.figure()\n",
        "ax = fig.add_axes([0,0,2.5,3])\n",
        "\n",
        "# Insert data\n",
        "city = [\"Dallas\", \"New York City\", \"Los Angeles\", \"Mountain View\", \"Boston\", \"Washington D.C.\", \"San Diego\", \"Austin\"]\n",
        "income = [averageIncomeDallas, averageIncomeNewYork, averageIncomeLA, averageIncomeMountainView, averageIncomeBoston, averageIncomeWashington, averageIncomeSanDiego, averageIncomeAustin]\n",
        "\n",
        "# Display bar chart\n",
        "ax.bar(city,income, color=\"r\")\n",
        "plt.show()"
      ],
      "metadata": {
        "colab": {
          "base_uri": "https://localhost:8080/",
          "height": 912
        },
        "id": "14mh4RlAzcXc",
        "outputId": "5844490d-8ceb-458c-8f65-febf01f70c7e"
      },
      "execution_count": null,
      "outputs": [
        {
          "output_type": "display_data",
          "data": {
            "image/png": "[encoded data removed]",
            "text/plain": [
              "<Figure size 432x288 with 1 Axes>"
            ]
          },
          "metadata": {
            "needs_background": "light"
          }
        }
      ]
    }
  ]
}